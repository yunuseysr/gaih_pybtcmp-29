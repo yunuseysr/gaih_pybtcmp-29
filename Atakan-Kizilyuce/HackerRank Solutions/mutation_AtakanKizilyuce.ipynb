{
  "nbformat": 4,
  "nbformat_minor": 0,
  "metadata": {
    "colab": {
      "name": "mutation/AtakanKizilyuce.ipynb",
      "provenance": [],
      "collapsed_sections": []
    },
    "kernelspec": {
      "name": "python3",
      "display_name": "Python 3"
    },
    "language_info": {
      "name": "python"
    }
  },
  "cells": [
    {
      "cell_type": "code",
      "execution_count": null,
      "metadata": {
        "id": "sro4ZQoNG40G"
      },
      "outputs": [],
      "source": [
        "def mutate_string(string, yer, karakter):\n",
        "    a = list(string)\n",
        "    a[yer] = karakter\n",
        "    string = \"\".join(a)\n",
        "    return string\n",
        "\n",
        "if __name__ == '__main__':\n",
        "    s = input()\n",
        "    i, c = input().split()\n",
        "    s_new = mutate_string(s, int(i), c)\n",
        "    print(s_new)"
      ]
    }
  ]
}