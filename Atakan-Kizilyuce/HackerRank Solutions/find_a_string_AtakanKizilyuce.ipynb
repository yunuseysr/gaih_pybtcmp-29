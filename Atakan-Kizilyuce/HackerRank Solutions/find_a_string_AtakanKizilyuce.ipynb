{
  "nbformat": 4,
  "nbformat_minor": 0,
  "metadata": {
    "colab": {
      "name": "find-a-string/AtakanKizilyuce.ipynb",
      "provenance": [],
      "collapsed_sections": []
    },
    "kernelspec": {
      "name": "python3",
      "display_name": "Python 3"
    },
    "language_info": {
      "name": "python"
    }
  },
  "cells": [
    {
      "cell_type": "code",
      "execution_count": null,
      "metadata": {
        "id": "Cd8Mo2mTIRme"
      },
      "outputs": [],
      "source": [
        "def count_substring(a, b):\n",
        "    count = 0\n",
        "    for i in range(len(a)-len(b)+1):\n",
        "        if (string[i:i+len(b)] == b):\n",
        "            count += 1\n",
        "    return count\n",
        "\n",
        "if __name__ == '__main__':\n",
        "    string = input().strip()\n",
        "    sub_string = input().strip()\n",
        "    \n",
        "    count = count_substring(string, sub_string)\n",
        "    print(count)"
      ]
    }
  ]
}