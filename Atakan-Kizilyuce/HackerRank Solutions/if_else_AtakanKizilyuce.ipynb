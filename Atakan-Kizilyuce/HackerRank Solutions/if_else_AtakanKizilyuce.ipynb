{
  "nbformat": 4,
  "nbformat_minor": 0,
  "metadata": {
    "colab": {
      "name": "if-else/AtakanKizilyuce.ipynb",
      "provenance": [],
      "collapsed_sections": []
    },
    "kernelspec": {
      "name": "python3",
      "display_name": "Python 3"
    },
    "language_info": {
      "name": "python"
    }
  },
  "cells": [
    {
      "cell_type": "code",
      "execution_count": null,
      "metadata": {
        "id": "EaZ-Xmj2Gb3g"
      },
      "outputs": [],
      "source": [
        "#!/bin/python3\n",
        "\n",
        "import math\n",
        "import os\n",
        "import random\n",
        "import re\n",
        "import sys\n",
        "\n",
        "\n",
        "\n",
        "if __name__ == '__main__':\n",
        "    n = int(input().strip())\n",
        "    if n%2 !=0:\n",
        "        print(\"Weird\")\n",
        "    else:\n",
        "        if n>=2 and n<=5:\n",
        "            print(\"Not Weird\")\n",
        "        elif n>=6 and n<=20:\n",
        "            print(\"Weird\")\n",
        "        else:\n",
        "            print(\"Not Weird\")"
      ]
    }
  ]
}